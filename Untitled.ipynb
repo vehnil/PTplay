{
 "cells": [
  {
   "cell_type": "code",
   "execution_count": 1,
   "id": "c7b10981-d459-4e60-b78b-7e7d505e66c2",
   "metadata": {},
   "outputs": [
    {
     "name": "stdout",
     "output_type": "stream",
     "text": [
      "Requirement already satisfied: mediapipe in /Users/shreyachakraborty/.pyenv/versions/3.9.18/lib/python3.9/site-packages (0.10.21)\n",
      "Requirement already satisfied: opencv-python in /Users/shreyachakraborty/.pyenv/versions/3.9.18/lib/python3.9/site-packages (4.11.0.86)\n",
      "Requirement already satisfied: absl-py in /Users/shreyachakraborty/.pyenv/versions/3.9.18/lib/python3.9/site-packages (from mediapipe) (2.1.0)\n",
      "Requirement already satisfied: attrs>=19.1.0 in /Users/shreyachakraborty/.pyenv/versions/3.9.18/lib/python3.9/site-packages (from mediapipe) (25.1.0)\n",
      "Requirement already satisfied: flatbuffers>=2.0 in /Users/shreyachakraborty/.pyenv/versions/3.9.18/lib/python3.9/site-packages (from mediapipe) (25.2.10)\n",
      "Requirement already satisfied: jax in /Users/shreyachakraborty/.pyenv/versions/3.9.18/lib/python3.9/site-packages (from mediapipe) (0.4.30)\n",
      "Requirement already satisfied: jaxlib in /Users/shreyachakraborty/.pyenv/versions/3.9.18/lib/python3.9/site-packages (from mediapipe) (0.4.30)\n",
      "Requirement already satisfied: matplotlib in /Users/shreyachakraborty/.pyenv/versions/3.9.18/lib/python3.9/site-packages (from mediapipe) (3.9.4)\n",
      "Requirement already satisfied: numpy<2 in /Users/shreyachakraborty/.pyenv/versions/3.9.18/lib/python3.9/site-packages (from mediapipe) (1.26.4)\n",
      "Requirement already satisfied: opencv-contrib-python in /Users/shreyachakraborty/.pyenv/versions/3.9.18/lib/python3.9/site-packages (from mediapipe) (4.11.0.86)\n",
      "Requirement already satisfied: protobuf<5,>=4.25.3 in /Users/shreyachakraborty/.pyenv/versions/3.9.18/lib/python3.9/site-packages (from mediapipe) (4.25.6)\n",
      "Requirement already satisfied: sounddevice>=0.4.4 in /Users/shreyachakraborty/.pyenv/versions/3.9.18/lib/python3.9/site-packages (from mediapipe) (0.5.1)\n",
      "Requirement already satisfied: sentencepiece in /Users/shreyachakraborty/.pyenv/versions/3.9.18/lib/python3.9/site-packages (from mediapipe) (0.2.0)\n",
      "Requirement already satisfied: CFFI>=1.0 in /Users/shreyachakraborty/.pyenv/versions/3.9.18/lib/python3.9/site-packages (from sounddevice>=0.4.4->mediapipe) (1.17.1)\n",
      "Requirement already satisfied: ml-dtypes>=0.2.0 in /Users/shreyachakraborty/.pyenv/versions/3.9.18/lib/python3.9/site-packages (from jax->mediapipe) (0.5.1)\n",
      "Requirement already satisfied: opt-einsum in /Users/shreyachakraborty/.pyenv/versions/3.9.18/lib/python3.9/site-packages (from jax->mediapipe) (3.4.0)\n",
      "Requirement already satisfied: scipy>=1.9 in /Users/shreyachakraborty/.pyenv/versions/3.9.18/lib/python3.9/site-packages (from jax->mediapipe) (1.13.1)\n",
      "Requirement already satisfied: importlib-metadata>=4.6 in /Users/shreyachakraborty/.pyenv/versions/3.9.18/lib/python3.9/site-packages (from jax->mediapipe) (8.6.1)\n",
      "Requirement already satisfied: contourpy>=1.0.1 in /Users/shreyachakraborty/.pyenv/versions/3.9.18/lib/python3.9/site-packages (from matplotlib->mediapipe) (1.3.0)\n",
      "Requirement already satisfied: cycler>=0.10 in /Users/shreyachakraborty/.pyenv/versions/3.9.18/lib/python3.9/site-packages (from matplotlib->mediapipe) (0.12.1)\n",
      "Requirement already satisfied: fonttools>=4.22.0 in /Users/shreyachakraborty/.pyenv/versions/3.9.18/lib/python3.9/site-packages (from matplotlib->mediapipe) (4.56.0)\n",
      "Requirement already satisfied: kiwisolver>=1.3.1 in /Users/shreyachakraborty/.pyenv/versions/3.9.18/lib/python3.9/site-packages (from matplotlib->mediapipe) (1.4.7)\n",
      "Requirement already satisfied: packaging>=20.0 in /Users/shreyachakraborty/.pyenv/versions/3.9.18/lib/python3.9/site-packages (from matplotlib->mediapipe) (24.2)\n",
      "Requirement already satisfied: pillow>=8 in /Users/shreyachakraborty/.pyenv/versions/3.9.18/lib/python3.9/site-packages (from matplotlib->mediapipe) (11.1.0)\n",
      "Requirement already satisfied: pyparsing>=2.3.1 in /Users/shreyachakraborty/.pyenv/versions/3.9.18/lib/python3.9/site-packages (from matplotlib->mediapipe) (3.2.1)\n",
      "Requirement already satisfied: python-dateutil>=2.7 in /Users/shreyachakraborty/.pyenv/versions/3.9.18/lib/python3.9/site-packages (from matplotlib->mediapipe) (2.9.0.post0)\n",
      "Requirement already satisfied: importlib-resources>=3.2.0 in /Users/shreyachakraborty/.pyenv/versions/3.9.18/lib/python3.9/site-packages (from matplotlib->mediapipe) (6.5.2)\n",
      "Requirement already satisfied: pycparser in /Users/shreyachakraborty/.pyenv/versions/3.9.18/lib/python3.9/site-packages (from CFFI>=1.0->sounddevice>=0.4.4->mediapipe) (2.22)\n",
      "Requirement already satisfied: zipp>=3.20 in /Users/shreyachakraborty/.pyenv/versions/3.9.18/lib/python3.9/site-packages (from importlib-metadata>=4.6->jax->mediapipe) (3.21.0)\n",
      "Requirement already satisfied: six>=1.5 in /Users/shreyachakraborty/.pyenv/versions/3.9.18/lib/python3.9/site-packages (from python-dateutil>=2.7->matplotlib->mediapipe) (1.17.0)\n"
     ]
    }
   ],
   "source": [
    "!pip install mediapipe opencv-python\n"
   ]
  },
  {
   "cell_type": "code",
   "execution_count": 4,
   "id": "083b0a49-482d-4c10-bf50-6d9ffec80f39",
   "metadata": {},
   "outputs": [],
   "source": [
    "import cv2\n",
    "import mediapipe as mp\n",
    "import numpy as np\n",
    "mp_drawing = mp.solutions.drawing_utils\n",
    "mp_pose = mp.solutions.pose"
   ]
  },
  {
   "cell_type": "code",
   "execution_count": null,
   "id": "3ee3c4ce-12cf-4000-bc62-7c20410818fe",
   "metadata": {},
   "outputs": [],
   "source": [
    "cap = cv2.VideoCapture(0)\n",
    "with mp_pose.Pose(min_detection_confidence=0.5, min_tracking_confidence=0.5) as pose:\n",
    "    while cap.isOpened():\n",
    "        ret, frame = cap.read()\n",
    "\n",
    "        # Recolor image to RGB\n",
    "        image = cv2.cvtColor(frame, cv2.COLOR_BGR2RGB)\n",
    "        image.flags.writeable = False\n",
    "\n",
    "        # Make detection\n",
    "        results = pose.process(image)\n",
    "\n",
    "        # Recolor back to BGR\n",
    "        image.flags.writeable = True\n",
    "        image = cv2.cvtColor(image, cv2.COLOR_RGB2BGR)\n",
    "\n",
    "        mp_drawing.draw_landmarks(image, results.pose_landmarks, mp_pose.POSE_CONNECTIONS)\n",
    "        \n",
    "        cv2.imshow('Mediapipe Feed', image)\n",
    "    \n",
    "        if cv2.waitKey(10) & 0xFF == ord('q'):\n",
    "            break\n",
    "    \n",
    "    cap.release()\n",
    "    cv2.destroyAllWindows()"
   ]
  },
  {
   "cell_type": "code",
   "execution_count": null,
   "id": "dfb4b2f3-ef10-43e3-bbde-6a631952a72d",
   "metadata": {},
   "outputs": [],
   "source": [
    "mp_pose.POSE_CONNECTIONS"
   ]
  },
  {
   "cell_type": "code",
   "execution_count": null,
   "id": "9cbade86-05c8-4689-9528-65391d2f9100",
   "metadata": {},
   "outputs": [],
   "source": []
  }
 ],
 "metadata": {
  "kernelspec": {
   "display_name": "mediapipe_env",
   "language": "python",
   "name": "mediapipe_env"
  },
  "language_info": {
   "codemirror_mode": {
    "name": "ipython",
    "version": 3
   },
   "file_extension": ".py",
   "mimetype": "text/x-python",
   "name": "python",
   "nbconvert_exporter": "python",
   "pygments_lexer": "ipython3",
   "version": "3.9.18"
  }
 },
 "nbformat": 4,
 "nbformat_minor": 5
}
